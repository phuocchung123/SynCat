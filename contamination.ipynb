{
 "cells": [
  {
   "cell_type": "code",
   "execution_count": 1,
   "metadata": {},
   "outputs": [],
   "source": [
    "import pandas as pd \n",
    "import numpy as np \n",
    "\n",
    "with open('./Data/data/uspto_all_reactions_training.txt','r') as f:\n",
    "    data_pretrain=f.readlines()\n"
   ]
  },
  {
   "cell_type": "code",
   "execution_count": 2,
   "metadata": {},
   "outputs": [
    {
     "data": {
      "text/plain": [
       "['BrC(Br)(Br)Br.CCCCc1nc(CO)cn1C(=O)OC(C)(C)C.ClCCl.c1ccc(P(c2ccccc2)c2ccccc2)cc1>>CCCCc1nc(CBr)cn1C(=O)OC(C)(C)C\\n',\n",
       " 'C1CCC2CNCCC2C1.O=C(O)[C@@H]1CCCN(S(=O)(=O)c2ccccc2Cl)C1>>O=C(C1CCC2CCCC=C2N1)[C@H]1CCCN(S(=O)(=O)c2ccccc2Cl)C1\\n',\n",
       " 'C1CCOC1.CC#N.CCN(CC)CC.CN(C)c1ccncc1.CO.Nc1cccc([N+](=O)[O-])c1.O.O=C([O-])[O-].[K+].[K+]>>CC(C)(C)OC(=O)Nc1cccc([N+](=O)[O-])c1\\n',\n",
       " 'CC(=O)O[BH-](OC(C)=O)OC(C)=O~[Na+].CO.COc1cccc(F)c1C=O.c1cc(-c2n[nH]c3ccc(-c4n[nH]c([C@@H]5CCCNC5)n4)cc23)ccn1>>COc1cccc(F)c1CN1CCC[C@@H](c2nc(-c3ccc4[nH]nc(-c5ccncc5)c4c3)n[nH]2)C1\\n',\n",
       " 'C1CCOC1.CC(=O)O.CCC(CC)N1C(=O)C(Br)(Br)c2cnc(Cl)nc21.[Zn]>>CCC(CC)N1C(=O)Cc2cnc(Cl)nc21\\n']"
      ]
     },
     "execution_count": 2,
     "metadata": {},
     "output_type": "execute_result"
    }
   ],
   "source": [
    "data_pretrain[:5]"
   ]
  },
  {
   "cell_type": "code",
   "execution_count": 3,
   "metadata": {},
   "outputs": [
    {
     "data": {
      "text/plain": [
       "['BrC(Br)(Br)Br.CCCCc1nc(CO)cn1C(=O)OC(C)(C)C.ClCCl.c1ccc(P(c2ccccc2)c2ccccc2)cc1>>CCCCc1nc(CBr)cn1C(=O)OC(C)(C)C',\n",
       " 'C1CCC2CNCCC2C1.O=C(O)[C@@H]1CCCN(S(=O)(=O)c2ccccc2Cl)C1>>O=C(C1CCC2CCCC=C2N1)[C@H]1CCCN(S(=O)(=O)c2ccccc2Cl)C1',\n",
       " 'C1CCOC1.CC#N.CCN(CC)CC.CN(C)c1ccncc1.CO.Nc1cccc([N+](=O)[O-])c1.O.O=C([O-])[O-].[K+].[K+]>>CC(C)(C)OC(=O)Nc1cccc([N+](=O)[O-])c1',\n",
       " 'CC(=O)O[BH-](OC(C)=O)OC(C)=O~[Na+].CO.COc1cccc(F)c1C=O.c1cc(-c2n[nH]c3ccc(-c4n[nH]c([C@@H]5CCCNC5)n4)cc23)ccn1>>COc1cccc(F)c1CN1CCC[C@@H](c2nc(-c3ccc4[nH]nc(-c5ccncc5)c4c3)n[nH]2)C1',\n",
       " 'C1CCOC1.CC(=O)O.CCC(CC)N1C(=O)C(Br)(Br)c2cnc(Cl)nc21.[Zn]>>CCC(CC)N1C(=O)Cc2cnc(Cl)nc21']"
      ]
     },
     "execution_count": 3,
     "metadata": {},
     "output_type": "execute_result"
    }
   ],
   "source": [
    "data_uspto=[]\n",
    "for i in data_pretrain:\n",
    "    data_uspto.append(i.rstrip('\\n'))\n",
    "data_uspto[:5]"
   ]
  },
  {
   "cell_type": "code",
   "execution_count": 9,
   "metadata": {},
   "outputs": [],
   "source": [
    "data_schneider=pd.read_csv('./Data/data/schneider50k.csv')\n",
    "data_schneider_test=data_schneider[data_schneider['split']=='test']\n",
    "rxn_schneider_test=data_schneider_test['rxn'].values"
   ]
  },
  {
   "cell_type": "code",
   "execution_count": 13,
   "metadata": {},
   "outputs": [
    {
     "name": "stderr",
     "output_type": "stream",
     "text": [
      "100%|██████████| 40000/40000 [18:03<00:00, 36.92it/s]\n"
     ]
    }
   ],
   "source": [
    "from tqdm import tqdm\n",
    "count=0\n",
    "for r in tqdm(rxn_schneider_test):\n",
    "    if r in data_uspto:\n",
    "        count+=1"
   ]
  },
  {
   "cell_type": "code",
   "execution_count": 14,
   "metadata": {},
   "outputs": [
    {
     "data": {
      "text/plain": [
       "0.72575"
      ]
     },
     "execution_count": 14,
     "metadata": {},
     "output_type": "execute_result"
    }
   ],
   "source": [
    "count/rxn_schneider_test.shape[0]"
   ]
  },
  {
   "cell_type": "code",
   "execution_count": 22,
   "metadata": {},
   "outputs": [],
   "source": [
    "from tqdm import tqdm\n",
    "import pandas as pd\n",
    "def contamination(data_path,rxn_pretrain=data_uspto,split_column='split',rxn_col='rxn'):\n",
    "    data=pd.read_csv(data_path)\n",
    "    data_test=data[data[split_column]=='test']\n",
    "    rxn_test=data_test[rxn_col].values\n",
    "\n",
    "    count=0\n",
    "    for r in tqdm(rxn_test):\n",
    "        if r in rxn_pretrain:\n",
    "            count+=1\n",
    "    print('Percentage of samples which exit in both 2 datasets: ',count/rxn_test.shape[0])"
   ]
  },
  {
   "cell_type": "code",
   "execution_count": 29,
   "metadata": {},
   "outputs": [
    {
     "name": "stderr",
     "output_type": "stream",
     "text": [
      "100%|██████████| 40000/40000 [19:15<00:00, 34.63it/s]"
     ]
    },
    {
     "name": "stdout",
     "output_type": "stream",
     "text": [
      "Percentage of samples which exit in both 2 datasets:  0.72575\n"
     ]
    },
    {
     "name": "stderr",
     "output_type": "stream",
     "text": [
      "\n"
     ]
    }
   ],
   "source": [
    "path='./Data/data/schneider50k.csv'\n",
    "contamination(path)"
   ]
  },
  {
   "cell_type": "code",
   "execution_count": 24,
   "metadata": {},
   "outputs": [
    {
     "name": "stderr",
     "output_type": "stream",
     "text": [
      "100%|██████████| 40000/40000 [33:03<00:00, 20.17it/s]"
     ]
    },
    {
     "name": "stdout",
     "output_type": "stream",
     "text": [
      "Percentage of samples which exit in both 2 datasets:  0.062325\n"
     ]
    },
    {
     "name": "stderr",
     "output_type": "stream",
     "text": [
      "\n"
     ]
    }
   ],
   "source": [
    "path='./Data/data/schneider50k_balance.csv'\n",
    "contamination(path,rxn_col='reactions')"
   ]
  },
  {
   "cell_type": "code",
   "execution_count": 28,
   "metadata": {},
   "outputs": [
    {
     "name": "stderr",
     "output_type": "stream",
     "text": [
      "100%|██████████| 44511/44511 [15:39<00:00, 47.36it/s]"
     ]
    },
    {
     "name": "stdout",
     "output_type": "stream",
     "text": [
      "Percentage of samples which exit in both 2 datasets:  0.9997079373637977\n"
     ]
    },
    {
     "name": "stderr",
     "output_type": "stream",
     "text": [
      "\n"
     ]
    }
   ],
   "source": [
    "path='./Data/data/tpl.csv'\n",
    "contamination(path)"
   ]
  },
  {
   "cell_type": "code",
   "execution_count": 25,
   "metadata": {},
   "outputs": [
    {
     "name": "stderr",
     "output_type": "stream",
     "text": [
      "100%|██████████| 44511/44511 [34:49<00:00, 21.30it/s]"
     ]
    },
    {
     "name": "stdout",
     "output_type": "stream",
     "text": [
      "Percentage of samples which exit in both 2 datasets:  0.14704230414953606\n"
     ]
    },
    {
     "name": "stderr",
     "output_type": "stream",
     "text": [
      "\n"
     ]
    }
   ],
   "source": [
    "path='./Data/data/balanced_tpl_combine.csv'\n",
    "contamination(path)"
   ]
  },
  {
   "cell_type": "code",
   "execution_count": 27,
   "metadata": {},
   "outputs": [
    {
     "name": "stderr",
     "output_type": "stream",
     "text": [
      "100%|██████████| 5002/5002 [03:56<00:00, 21.18it/s]"
     ]
    },
    {
     "name": "stdout",
     "output_type": "stream",
     "text": [
      "Percentage of samples which exit in both 2 datasets:  0.1295481807277089\n"
     ]
    },
    {
     "name": "stderr",
     "output_type": "stream",
     "text": [
      "\n"
     ]
    }
   ],
   "source": [
    "path='./Data/data/USPTO_50k_updated.csv'\n",
    "contamination(path,rxn_col='reactions')"
   ]
  },
  {
   "cell_type": "code",
   "execution_count": 26,
   "metadata": {},
   "outputs": [
    {
     "name": "stderr",
     "output_type": "stream",
     "text": [
      "100%|██████████| 5002/5002 [04:14<00:00, 19.62it/s]"
     ]
    },
    {
     "name": "stdout",
     "output_type": "stream",
     "text": [
      "Percentage of samples which exit in both 2 datasets:  0.003198720511795282\n"
     ]
    },
    {
     "name": "stderr",
     "output_type": "stream",
     "text": [
      "\n"
     ]
    }
   ],
   "source": [
    "path='./Data/data/USPTO_50k_bal_updated.csv'\n",
    "contamination(path,rxn_col='reactions')"
   ]
  },
  {
   "cell_type": "code",
   "execution_count": 30,
   "metadata": {},
   "outputs": [
    {
     "name": "stderr",
     "output_type": "stream",
     "text": [
      "100%|██████████| 4345/4345 [03:39<00:00, 19.79it/s]\n"
     ]
    },
    {
     "name": "stdout",
     "output_type": "stream",
     "text": [
      "Percentage of samples which exit in both 2 datasets:  0.003912543153049482\n"
     ]
    },
    {
     "name": "stderr",
     "output_type": "stream",
     "text": [
      "100%|██████████| 4345/4345 [03:41<00:00, 19.59it/s]\n"
     ]
    },
    {
     "name": "stdout",
     "output_type": "stream",
     "text": [
      "Percentage of samples which exit in both 2 datasets:  0.003912543153049482\n"
     ]
    },
    {
     "name": "stderr",
     "output_type": "stream",
     "text": [
      "100%|██████████| 4345/4345 [03:39<00:00, 19.82it/s]"
     ]
    },
    {
     "name": "stdout",
     "output_type": "stream",
     "text": [
      "Percentage of samples which exit in both 2 datasets:  0.004372842347525892\n"
     ]
    },
    {
     "name": "stderr",
     "output_type": "stream",
     "text": [
      "\n"
     ]
    }
   ],
   "source": [
    "path='./Data/data/Syntemp_cluster_updated.csv'\n",
    "contamination(path,rxn_col='RSMI',split_column='Split_R0')\n",
    "contamination(path,rxn_col='RSMI',split_column='Split_R1')\n",
    "contamination(path,rxn_col='RSMI',split_column='Split_R2')"
   ]
  }
 ],
 "metadata": {
  "kernelspec": {
   "display_name": "syncat",
   "language": "python",
   "name": "python3"
  },
  "language_info": {
   "codemirror_mode": {
    "name": "ipython",
    "version": 3
   },
   "file_extension": ".py",
   "mimetype": "text/x-python",
   "name": "python",
   "nbconvert_exporter": "python",
   "pygments_lexer": "ipython3",
   "version": "3.11.11"
  }
 },
 "nbformat": 4,
 "nbformat_minor": 2
}
