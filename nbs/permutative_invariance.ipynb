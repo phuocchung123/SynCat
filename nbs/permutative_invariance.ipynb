{
 "cells": [
  {
   "cell_type": "code",
   "execution_count": 1,
   "id": "290830ad",
   "metadata": {},
   "outputs": [
    {
     "name": "stderr",
     "output_type": "stream",
     "text": [
      "c:\\Users\\chung\\anaconda3\\envs\\syncat\\Lib\\site-packages\\tqdm\\auto.py:21: TqdmWarning: IProgress not found. Please update jupyter and ipywidgets. See https://ipywidgets.readthedocs.io/en/stable/user_install.html\n",
      "  from .autonotebook import tqdm as notebook_tqdm\n"
     ]
    },
    {
     "name": "stdout",
     "output_type": "stream",
     "text": [
      "--- generating graph data for None\n",
      "--- n_reactions: 1, reactant_max_cnt: 5, product_max_cnt: 1\n"
     ]
    }
   ],
   "source": [
    "import numpy as np\n",
    "import os\n",
    "import sys\n",
    "parent_path=os.path.dirname(os.getcwd())\n",
    "sys.path.append(parent_path+'/src')\n",
    "\n",
    "\n",
    "from reaction_data import get_graph_data\n",
    "\n",
    "rsmi_list = ['CCOC(C)=O.COCCOc1ccc(CCCN)c(Oc2ncc(C(F)(F)F)cc2Cl)c1.Cl.O=S(=O)(Cl)c1ccccc1Cl.c1ccncc1>>COCCOc1ccc(CCCNS(=O)(=O)c2ccccc2Cl)c(Oc2ncc(C(F)(F)F)cc2Cl)c1']\n",
    "rmol_max_cnt = np.max([smi.split(\">>\")[0].count(\".\") + 1 for smi in rsmi_list])\n",
    "pmol_max_cnt = np.max([smi.split(\">>\")[1].count(\".\") + 1 for smi in rsmi_list])\n",
    "\n",
    "a,b,c=get_graph_data(rsmi_list,rmol_max_cnt, pmol_max_cnt)"
   ]
  },
  {
   "cell_type": "code",
   "execution_count": 2,
   "id": "c35e2353",
   "metadata": {},
   "outputs": [],
   "source": [
    "from data import GraphDataset\n",
    "\n",
    "d=GraphDataset(save_path=None,rmol = a, pmol= b, reaction= c)"
   ]
  },
  {
   "cell_type": "code",
   "execution_count": 3,
   "id": "bf1faa7f",
   "metadata": {},
   "outputs": [],
   "source": [
    "from torch.utils.data import DataLoader\n",
    "from utils import collate_reaction_graphs\n",
    "loader = DataLoader(\n",
    "    dataset=d,\n",
    "    batch_size=int(np.min([32,len(d)])),\n",
    "    shuffle=False,\n",
    "    collate_fn=collate_reaction_graphs,\n",
    ")"
   ]
  },
  {
   "cell_type": "code",
   "execution_count": 4,
   "id": "9d48c335",
   "metadata": {},
   "outputs": [
    {
     "name": "stdout",
     "output_type": "stream",
     "text": [
      "155\n",
      "9\n"
     ]
    }
   ],
   "source": [
    "node_dim = d.rmol_node_attr[0].shape[1]\n",
    "edge_dim = d.rmol_edge_attr[0].shape[1]\n",
    "print(node_dim)\n",
    "print(edge_dim)"
   ]
  },
  {
   "cell_type": "code",
   "execution_count": 6,
   "id": "7745cdbd",
   "metadata": {},
   "outputs": [
    {
     "name": "stdout",
     "output_type": "stream",
     "text": [
      "cpu\n"
     ]
    }
   ],
   "source": [
    "from model import model\n",
    "import torch\n",
    "\n",
    "device= (torch.device(\"cuda:0\") if torch.cuda.is_available()\n",
    "         else torch.device(\"cpu\"))\n",
    "print(device)"
   ]
  },
  {
   "cell_type": "code",
   "execution_count": 7,
   "id": "1b1a0329",
   "metadata": {},
   "outputs": [
    {
     "data": {
      "text/plain": [
       "<All keys matched successfully>"
      ]
     },
     "execution_count": 7,
     "metadata": {},
     "output_type": "execute_result"
    }
   ],
   "source": [
    "net=model(node_dim, edge_dim, 1000, 3, 384, 0.1).to(device)\n",
    "model_path=('../Data/model/model_tpl.pt')\n",
    "checkpoint=torch.load(model_path, weights_only=False, map_location=device )\n",
    "net.load_state_dict(checkpoint[\"model_state_dict\"])\n"
   ]
  },
  {
   "cell_type": "code",
   "execution_count": 8,
   "id": "a5a32245",
   "metadata": {},
   "outputs": [
    {
     "name": "stderr",
     "output_type": "stream",
     "text": [
      "prediction:   0%|          | 0/1 [00:00<?, ?it/s]d:\\workspace\\SynCat/src\\data.py:118: UserWarning: Creating a tensor from a list of numpy.ndarrays is extremely slow. Please consider converting the list to a single numpy.ndarray with numpy.array() before converting to a tensor. (Triggered internally at C:\\actions-runner\\_work\\pytorch\\pytorch\\pytorch\\torch\\csrc\\utils\\tensor_new.cpp:257.)\n",
      "  r_edge_index = torch.tensor([r_src, r_dst], dtype=torch.long)\n",
      "prediction: 100%|██████████| 1/1 [00:00<00:00,  9.37it/s]\n"
     ]
    }
   ],
   "source": [
    "from tqdm import tqdm\n",
    "net.eval()\n",
    "with torch.no_grad():\n",
    "    for batchdata in tqdm(loader,desc='prediction'):\n",
    "        rmol = [b.to(device) for b in batchdata[:rmol_max_cnt]]\n",
    "        pmol = [b.to(device) for b in batchdata[rmol_max_cnt:rmol_max_cnt+pmol_max_cnt]]\n",
    "        r_dummy = batchdata[-4]\n",
    "        p_dummy = batchdata[-3]\n",
    "\n",
    "        pred, att_r, att_p, emb = net(rmol, pmol, r_dummy, p_dummy, device)\n",
    "\n"
   ]
  },
  {
   "cell_type": "code",
   "execution_count": 51,
   "id": "58033f31",
   "metadata": {},
   "outputs": [
    {
     "data": {
      "image/png": "[encoded data removed]",
      "text/plain": [
       "<Figure size 400x1000 with 1 Axes>"
      ]
     },
     "metadata": {},
     "output_type": "display_data"
    }
   ],
   "source": [
    "import matplotlib.pyplot as plt\n",
    "import numpy as np\n",
    "\n",
    "def plot_1d_heatmap(values, cmap='Blues', colorbar=True,x_label='Attention weights of reactants'):\n",
    "    \"\"\"\n",
    "    Plots a 1D heatmap for a list of values in the range [0, 1].\n",
    "    \n",
    "    Args:\n",
    "        values (list or array-like): List of numeric values between 0 and 1.\n",
    "        cmap (str): Colormap to use (default 'viridis').\n",
    "        figsize (tuple): Size of the plot.\n",
    "        colorbar (bool): Whether to show the colorbar.\n",
    "        title (str): Title of the plot.\n",
    "    \"\"\"\n",
    "    heatmap_data = np.array([values])\n",
    "    plt.figure(figsize=(4, len(values)))\n",
    "    img = plt.imshow(heatmap_data, aspect=1, cmap=cmap)\n",
    "    # if colorbar:\n",
    "    #     plt.colorbar(img, label='Value')\n",
    "    plt.yticks([])\n",
    "    plt.xticks([])\n",
    "    plt.xticks(np.arange(len(values) + 1) - 0.5, minor=True)\n",
    "    plt.yticks(np.arange(len(values) + 1) - 0.5, minor=True)\n",
    "    plt.grid(which=\"minor\", color='black', linestyle='-', linewidth=1)\n",
    "    plt.xlabel('Attention weights of reactants')\n",
    "    plt.tight_layout()\n",
    "    plt.show()\n",
    "\n",
    "# Example usage:\n",
    "values = [0.1, 0.5, 0.9, 0.2, 0.7, 0.3, 0.6, 0.8, 0.4, 1.0]\n",
    "plot_1d_heatmap(values)\n"
   ]
  },
  {
   "cell_type": "code",
   "execution_count": 29,
   "id": "b9affc66",
   "metadata": {},
   "outputs": [],
   "source": [
    "import itertools\n",
    "\n",
    "def sum_related(values: list[float], N: int) -> list:\n",
    "    \"\"\"\n",
    "    Calculate the sum of all entries in `values` that involve the variable at index `i`.\n",
    "\n",
    "    The `values` list is organized as follows:\n",
    "      - The first N elements (indices 0 to N-1) are the individual variable values.\n",
    "      - The remaining elements (indices N to N + C(N,2) - 1) are the pairwise sums,\n",
    "        ordered according to itertools.combinations(range(N), 2).\n",
    "\n",
    "    Args:\n",
    "        values (list[float]): A list of length N + C(N, 2), where C(N, 2) = N*(N-1)/2.\n",
    "        N (int): The number of original variables.\n",
    "        i (int): The index (0-based) of the target variable.\n",
    "\n",
    "    Returns:\n",
    "        float: The sum of values[i] plus all pairwise sums in `values` that include the variable at index `i`.\n",
    "\n",
    "    Raises:\n",
    "        ValueError: If the length of `values` does not match N + C(N, 2).\n",
    "    \"\"\"\n",
    "    expected_len = N + (N * (N - 1)) // 2\n",
    "    if len(values) != expected_len:\n",
    "        raise ValueError(f\"Expected list length {expected_len}, got {len(values)}\")\n",
    "    lst_att=[]\n",
    "    for i in range(N):\n",
    "        total = values[i]\n",
    "        for idx, (a, b) in enumerate(itertools.combinations(range(N), 2)):\n",
    "            if i in (a, b):\n",
    "                total += values[N + idx]\n",
    "        lst_att.append(total)\n",
    "    return lst_att\n",
    "\n"
   ]
  },
  {
   "cell_type": "code",
   "execution_count": 34,
   "id": "8923a2e1",
   "metadata": {},
   "outputs": [],
   "source": [
    "N_r=rsmi_list[0].split(\">>\")[0].count(\".\") + 1\n",
    "N_p=rsmi_list[0].split(\">>\")[1].count(\".\") + 1"
   ]
  },
  {
   "cell_type": "code",
   "execution_count": 35,
   "id": "312f33c2",
   "metadata": {},
   "outputs": [
    {
     "name": "stdout",
     "output_type": "stream",
     "text": [
      "[0.07960653444922627, 0.8837867295369506, 0.00535367798685682, 0.9440443819621578, 0.04711583334528768]\n",
      "[1.0]\n"
     ]
    }
   ],
   "source": [
    "lst_att_r = sum_related(att_r[0], N_r)\n",
    "lst_att_p = sum_related(att_p[0],N_p)\n",
    "print(lst_att_r)\n",
    "print(lst_att_p)\n",
    "\n"
   ]
  },
  {
   "cell_type": "code",
   "execution_count": 13,
   "id": "b455c8e8",
   "metadata": {},
   "outputs": [],
   "source": [
    "from rdkit.Chem import AllChem, Draw\n",
    "def visual_reaction(rsmi):\n",
    "    reaction=AllChem.ReactionFromSmarts(rsmi, useSmiles=True)\n",
    "    return display(Draw.ReactionToImage(reaction))\n"
   ]
  }
 ],
 "metadata": {
  "kernelspec": {
   "display_name": "syncat",
   "language": "python",
   "name": "python3"
  },
  "language_info": {
   "codemirror_mode": {
    "name": "ipython",
    "version": 3
   },
   "file_extension": ".py",
   "mimetype": "text/x-python",
   "name": "python",
   "nbconvert_exporter": "python",
   "pygments_lexer": "ipython3",
   "version": "3.11.13"
  }
 },
 "nbformat": 4,
 "nbformat_minor": 5
}
